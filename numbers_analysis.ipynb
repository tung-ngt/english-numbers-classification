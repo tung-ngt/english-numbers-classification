{
 "cells": [
  {
   "cell_type": "code",
   "execution_count": 5,
   "metadata": {},
   "outputs": [],
   "source": [
    "import pylab\n",
    "import wave\n",
    "\n",
    "def graph_spectrogram(wav_file):\n",
    "    sound_info, frame_rate = get_wav_info(wav_file)\n",
    "    pylab.figure(num=None, figsize=(19, 12))\n",
    "    pylab.subplot(111)\n",
    "    pylab.title('spectrogram of %r' % wav_file)\n",
    "    pylab.specgram(sound_info, Fs=frame_rate)\n",
    "    pylab.savefig('spectrogram.png')\n",
    "def get_wav_info(wav_file):\n",
    "    wav = wave.open(wav_file, 'r')\n",
    "    frames = wav.readframes(-1)\n",
    "    sound_info = pylab.fromstring(frames, 'int16')\n",
    "    frame_rate = wav.getframerate()\n",
    "    wav.close()\n",
    "    return sound_info, frame_rate"
   ]
  },
  {
   "cell_type": "code",
   "execution_count": null,
   "metadata": {},
   "outputs": [],
   "source": [
    "# graph_spectrogram(\"output.wav\")"
   ]
  }
 ],
 "metadata": {
  "kernelspec": {
   "display_name": "Python 3",
   "language": "python",
   "name": "python3"
  },
  "language_info": {
   "codemirror_mode": {
    "name": "ipython",
    "version": 3
   },
   "file_extension": ".py",
   "mimetype": "text/x-python",
   "name": "python",
   "nbconvert_exporter": "python",
   "pygments_lexer": "ipython3",
   "version": "3.11.3"
  },
  "orig_nbformat": 4
 },
 "nbformat": 4,
 "nbformat_minor": 2
}
