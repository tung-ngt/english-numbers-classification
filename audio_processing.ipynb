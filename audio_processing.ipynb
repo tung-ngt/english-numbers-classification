{
 "cells": [
  {
   "cell_type": "code",
   "execution_count": 2,
   "metadata": {},
   "outputs": [],
   "source": [
    "from settings import *\n",
    "import soundfile as sf\n",
    "import numpy as np"
   ]
  },
  {
   "cell_type": "code",
   "execution_count": 3,
   "metadata": {},
   "outputs": [],
   "source": [
    "normal_boundary = 0.03\n",
    "qt_boundary = 0.0001\n",
    "qs_boundary = 0.08\n",
    "\n",
    "# Load all the signals in the numbers folder and cut them if the amplitude is too low and save them in a new folder\n",
    "for number in NUMBERS:\n",
    "    for person in PEOPLE:\n",
    "        audio_path = NUMBERS_FOLDER + \"/\" + person + \"_\" + number + AUDIO_FORMAT\n",
    "        num_audio, sample_rate = sf.read(audio_path)\n",
    "\n",
    "        # find the first occurrence of an array elemen  t that is greater than boundary\n",
    "        # find the last occurrence of an array element that is greater than boundary\n",
    "\n",
    "        # if person == \"qt\" or person == \"qh\":\n",
    "        #     num_audio = num_audio[np.where(abs(num_audio) >= qt_boundary)[0][0]:np.where(abs(num_audio) >= qt_boundary)[0][-1]-800]    \n",
    "        \n",
    "        # if person == \"qs\":\n",
    "        #     num_audio = num_audio[np.where(abs(num_audio) >= qs_boundary)[0][0]:np.where(abs(num_audio) >= qs_boundary)[0][-1]-200]    \n",
    "        \n",
    "        # else:\n",
    "        num_audio = num_audio[np.where(abs(num_audio) >= normal_boundary)[0][0]:np.where(abs(num_audio) >= normal_boundary)[0][-1]-1000]    \n",
    "        \n",
    "        sf.write(\"./processed_audio/\" + person + \"_\" + number + \"_cut.wav\", num_audio, sample_rate)"
   ]
  }
 ],
 "metadata": {
  "kernelspec": {
   "display_name": "Python 3",
   "language": "python",
   "name": "python3"
  },
  "language_info": {
   "codemirror_mode": {
    "name": "ipython",
    "version": 3
   },
   "file_extension": ".py",
   "mimetype": "text/x-python",
   "name": "python",
   "nbconvert_exporter": "python",
   "pygments_lexer": "ipython3",
   "version": "3.11.3"
  },
  "orig_nbformat": 4
 },
 "nbformat": 4,
 "nbformat_minor": 2
}
