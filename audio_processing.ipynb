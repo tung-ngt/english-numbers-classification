{
 "cells": [
  {
   "cell_type": "code",
   "execution_count": 6,
   "metadata": {},
   "outputs": [],
   "source": [
    "from settings import *\n",
    "import soundfile as sf\n",
    "import numpy as np"
   ]
  },
  {
   "cell_type": "code",
   "execution_count": 7,
   "metadata": {},
   "outputs": [
    {
     "ename": "NameError",
     "evalue": "name 'PEOPLE' is not defined",
     "output_type": "error",
     "traceback": [
      "\u001b[1;31m---------------------------------------------------------------------------\u001b[0m",
      "\u001b[1;31mNameError\u001b[0m                                 Traceback (most recent call last)",
      "Cell \u001b[1;32mIn[7], line 3\u001b[0m\n\u001b[0;32m      1\u001b[0m \u001b[39m# Load all the signals in the numbers folder and cut them if the amplitude is too low and save them in a new folder\u001b[39;00m\n\u001b[0;32m      2\u001b[0m \u001b[39mfor\u001b[39;00m number \u001b[39min\u001b[39;00m NUMBERS:\n\u001b[1;32m----> 3\u001b[0m     \u001b[39mfor\u001b[39;00m person \u001b[39min\u001b[39;00m PEOPLE:\n\u001b[0;32m      4\u001b[0m         audio_path \u001b[39m=\u001b[39m NUMBERS_FOLDER \u001b[39m+\u001b[39m person \u001b[39m+\u001b[39m \u001b[39m\"\u001b[39m\u001b[39m_\u001b[39m\u001b[39m\"\u001b[39m \u001b[39m+\u001b[39m number \u001b[39m+\u001b[39m AUDIO_FORMAT\n\u001b[0;32m      5\u001b[0m         num_audio, sample_rate \u001b[39m=\u001b[39m sf\u001b[39m.\u001b[39mread(audio_path)\n",
      "\u001b[1;31mNameError\u001b[0m: name 'PEOPLE' is not defined"
     ]
    }
   ],
   "source": [
    "# Load all the signals in the numbers folder and cut them if the amplitude is too low and save them in a new folder\n",
    "for number in NUMBERS:\n",
    "    for person in PEOPLE:\n",
    "        audio_path = NUMBERS_FOLDER + person + \"_\" + number + AUDIO_FORMAT\n",
    "        num_audio, sample_rate = sf.read(audio_path)\n",
    "\n",
    "        # Cut the signal where amplitude < 0.05\n",
    "        # find the first occurrence of an array elemen  t that is greater than 0.05\n",
    "        # find the last occurrence of an array element that is greater than 0.05\n",
    "        num_audio = num_audio[np.where(abs(num_audio) > 0.1)[0][0]:np.where(abs(num_audio) > 0.1)[0][-1]-1000]    \n",
    "        \n",
    "        # Save the cut signal to a new folder respectively as vt_number_cut.wav\n",
    "        sf.write(\"./processed_audio/\" + person + \"_\" + number + \"_cut.wav\", num_audio, sample_rate)\n"
   ]
  }
 ],
 "metadata": {
  "kernelspec": {
   "display_name": "Python 3",
   "language": "python",
   "name": "python3"
  },
  "language_info": {
   "codemirror_mode": {
    "name": "ipython",
    "version": 3
   },
   "file_extension": ".py",
   "mimetype": "text/x-python",
   "name": "python",
   "nbconvert_exporter": "python",
   "pygments_lexer": "ipython3",
   "version": "3.11.3"
  },
  "orig_nbformat": 4
 },
 "nbformat": 4,
 "nbformat_minor": 2
}
