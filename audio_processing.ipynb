{
 "cells": [
  {
   "cell_type": "code",
   "execution_count": 2,
   "metadata": {},
   "outputs": [],
   "source": [
    "from settings import *\n",
    "import soundfile as sf\n",
    "import numpy as np\n",
    "from scipy import signal\n",
    "from scipy.signal import butter, lfilter, freqz, filtfilt\n",
    "import librosa"
   ]
  },
  {
   "cell_type": "code",
   "execution_count": 5,
   "metadata": {},
   "outputs": [],
   "source": [
    "normal_boundary = 0.03\n",
    "qt_boundary = 0.0001\n",
    "qs_boundary = 0.08\n",
    "\n",
    "# Load all the signals in the numbers folder and cut them if the amplitude is too low and save them in a new folder\n",
    "for number in NUMBERS:\n",
    "    for person in PEOPLE:\n",
    "        audio_path = NUMBERS_FOLDER + \"/\" + person + \"_\" + number + AUDIO_FORMAT\n",
    "        num_audio, sample_rate = sf.read(audio_path)\n",
    "\n",
    "        # find the first occurrence of an array elemen  t that is greater than boundary\n",
    "        # find the last occurrence of an array element that is greater than boundary\n",
    "\n",
    "        # if person == \"qt\" or person == \"qh\":\n",
    "        #     num_audio = num_audio[np.where(abs(num_audio) >= qt_boundary)[0][0]:np.where(abs(num_audio) >= qt_boundary)[0][-1]-800]    \n",
    "        \n",
    "        # if person == \"qs\":\n",
    "        #     num_audio = num_audio[np.where(abs(num_audio) >= qs_boundary)[0][0]:np.where(abs(num_audio) >= qs_boundary)[0][-1]-200]    \n",
    "        \n",
    "        # else:\n",
    "        num_audio = num_audio[np.where(abs(num_audio) >= normal_boundary)[0][0]:np.where(abs(num_audio) >= normal_boundary)[0][-1]-1000]    \n",
    "        \n",
    "        sf.write(\"./processed_audio/\" + person + \"_\" + number + \"_cut.wav\", num_audio, sample_rate)"
   ]
  },
  {
   "cell_type": "code",
   "execution_count": 6,
   "metadata": {},
   "outputs": [],
   "source": [
    "# Make a filter to remove the noise from the audio\n",
    "from scipy import signal\n",
    "from scipy.io import wavfile\n",
    "import matplotlib.pyplot as plt\n",
    "\n",
    "# Load the audio file\n",
    "for person in PEOPLE:\n",
    "    for number in NUMBERS:  \n",
    "        audio_path = PROCESSED_FOLDER + \"/\" + person + \"_\" + number + \"_cut\" + AUDIO_FORMAT\n",
    "        num_audio, sample_rate = sf.read(audio_path)\n",
    "        \n",
    "        try:\n",
    "            filter_order = 1\n",
    "            cutoff_frequency = 1000.0\n",
    "            normalized_cutoff_frequency = 2 * cutoff_frequency / sample_rate\n",
    "            b, a = butter(filter_order, normalized_cutoff_frequency, btype='low')\n",
    "\n",
    "            # Apply the filter to the noisy audio data\n",
    "            num_audio = filtfilt(b, a, num_audio)\n",
    "        except:\n",
    "            pass\n",
    "        \n",
    "        sf.write(\"./filter_audio/\" + person + \"_\" + number + \"_filtered.wav\", num_audio, sample_rate)"
   ]
  },
  {
   "cell_type": "code",
   "execution_count": 7,
   "metadata": {},
   "outputs": [],
   "source": [
    "final_boundary = 0.05\n",
    "\n",
    "for person in PEOPLE:\n",
    "    for number in NUMBERS:  \n",
    "        audio_path = FILTER_FOLDER + \"/\" + person + \"_\" + number + \"_filtered\" + AUDIO_FORMAT\n",
    "        audio_signal, sample_rate = librosa.load(audio_path)\n",
    "\n",
    "        num_audio = audio_signal[np.where(abs(audio_signal) >= final_boundary)[0][0] :np.where(abs(audio_signal) >= final_boundary)[0][-1]-1000]\n",
    "\n",
    "        min_duration = 0.5\n",
    "        current_duration = len(audio_signal) / sample_rate\n",
    "\n",
    "        if current_duration < min_duration:\n",
    "            pad_samples = int((min_duration - current_duration) * sample_rate / 2)          \n",
    "            padded_audio = np.pad(audio_signal, (pad_samples, pad_samples), mode='constant')\n",
    "\n",
    "        else:\n",
    "            padded_audio = audio_signal\n",
    "\n",
    "        padded_audio_path = \"./final_audio/\" + person + \"_\" + number + \"_final.wav\"\n",
    "        sf.write(padded_audio_path, padded_audio, sample_rate)"
   ]
  }
 ],
 "metadata": {
  "kernelspec": {
   "display_name": "Python 3",
   "language": "python",
   "name": "python3"
  },
  "language_info": {
   "codemirror_mode": {
    "name": "ipython",
    "version": 3
   },
   "file_extension": ".py",
   "mimetype": "text/x-python",
   "name": "python",
   "nbconvert_exporter": "python",
   "pygments_lexer": "ipython3",
   "version": "3.11.3"
  },
  "orig_nbformat": 4
 },
 "nbformat": 4,
 "nbformat_minor": 2
}
